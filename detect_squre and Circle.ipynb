{
 "cells": [
  {
   "cell_type": "code",
   "execution_count": 45,
   "metadata": {},
   "outputs": [],
   "source": [
    "import numpy as np \n",
    "import pandas as pd \n",
    "from PIL import Image \n",
    "import seaborn as sns \n",
    "from sklearn import linear_model\n",
    "from sklearn.model_selection import train_test_split\n",
    "import matplotlib.pyplot as plt\n"
   ]
  },
  {
   "cell_type": "code",
   "execution_count": 40,
   "metadata": {},
   "outputs": [
    {
     "data": {
      "text/plain": [
       "<matplotlib.image.AxesImage at 0x1e833c21610>"
      ]
     },
     "execution_count": 40,
     "metadata": {},
     "output_type": "execute_result"
    },
    {
     "data": {
      "image/png": "[encoded data removed]",
      "text/plain": [
       "<Figure size 640x480 with 1 Axes>"
      ]
     },
     "metadata": {},
     "output_type": "display_data"
    }
   ],
   "source": [
    "x= np.empty((0,4096))\n",
    "for i in range (1,21):\n",
    " \n",
    "     im = Image.open(\"dataset/\"+str(i) + \".bmp\")\n",
    "\n",
    "     p=np.array(im )\n",
    "     p2= p[ : , : ,0]\n",
    "     p2=p2.flatten ()\n",
    "     p2=p2/255\n",
    "     x= np.append (x, [p2],axis=0)\n",
    "    \n",
    "y= np.array([\n",
    "     0,\n",
    "     0,\n",
    "     0,\n",
    "     0,\n",
    "     0,\n",
    "     0,\n",
    "     0,\n",
    "     0,\n",
    "     0,\n",
    "     0,\n",
    "     1,\n",
    "     1,\n",
    "     1,\n",
    "     1,\n",
    "     1,\n",
    "     1,\n",
    "     1,\n",
    "     1,\n",
    "     1,\n",
    "     1\n",
    "])\n",
    "\n",
    "X_train,X_test,y_train,y_test = train_test_split(x,y,test_size= 0.2)\n",
    "model = linear_model.LogisticRegression()\n",
    "model.fit(X_train,y_train)\n",
    "out = model.predict(X_test)\n",
    "plt.imshow (X_test[2].reshape(64,64))\n",
    "    \n"
   ]
  },
  {
   "cell_type": "code",
   "execution_count": 44,
   "metadata": {},
   "outputs": [
    {
     "data": {
      "text/plain": [
       "array([1])"
      ]
     },
     "execution_count": 44,
     "metadata": {},
     "output_type": "execute_result"
    }
   ],
   "source": [
    "input = Image.open(\"dataset/t1.bmp\")\n",
    "ara= np.array (input)\n",
    "arr= ara[:,:,0]\n",
    "aar= arr.flatten()\n",
    "t1 = np.array([aar])\n",
    "w=model.predict(t1)\n",
    "w"
   ]
  }
 ],
 "metadata": {
  "kernelspec": {
   "display_name": "base",
   "language": "python",
   "name": "python3"
  },
  "language_info": {
   "codemirror_mode": {
    "name": "ipython",
    "version": 3
   },
   "file_extension": ".py",
   "mimetype": "text/x-python",
   "name": "python",
   "nbconvert_exporter": "python",
   "pygments_lexer": "ipython3",
   "version": "3.8.8"
  }
 },
 "nbformat": 4,
 "nbformat_minor": 2
}
